{
 "cells": [
  {
   "cell_type": "code",
   "execution_count": 9,
   "id": "be5b0d44-3028-4cb3-8a85-0d7a24594d22",
   "metadata": {},
   "outputs": [
    {
     "name": "stdout",
     "output_type": "stream",
     "text": [
      "['mozzarella', 'Cinderella ', 'salmonella']\n",
      "['MOZZARELLA', 'Cinderella ', 'salmonella']\n",
      "['MOZZARELLA', 'Cinderella ']\n",
      "['MOZZARELLA', 'Cinderella ', 'Noble Prize']\n"
     ]
    }
   ],
   "source": [
    "thing=[\"mozzarella\", \"cinderella \", \"salmonella\"]\n",
    "thing[1]=thing[1].capitalize()\n",
    "print(thing)\n",
    "thing[0]=thing[0].upper()\n",
    "print(thing)\n",
    "thing.remove(thing[2])\n",
    "print(thing)\n",
    "thing.append(\"Noble Prize\")\n",
    "print(thing)"
   ]
  },
  {
   "cell_type": "markdown",
   "id": "fa9acb5a-09d6-4fe8-a7ae-0dbfb536bb70",
   "metadata": {},
   "source": [
    "Did this change the Element in the list? Yes, thing 1 was lower case, but in the next two lines you can see it is capitalized. The same with thing 0. It was all lower case now it's all uppercase."
   ]
  },
  {
   "cell_type": "markdown",
   "id": "86cc5c4f-4343-45a0-8134-20147895f19d",
   "metadata": {},
   "source": [
    "9.1 - 9.2"
   ]
  },
  {
   "cell_type": "code",
   "execution_count": 11,
   "id": "b20dcd77-8f9d-4849-a483-692733c7bb88",
   "metadata": {},
   "outputs": [
    {
     "name": "stdout",
     "output_type": "stream",
     "text": [
      "5\n"
     ]
    }
   ],
   "source": [
    "def good():\n",
    "  list_1 = ['Harry', 'Ron', 'Hermione']\n",
    "  return list_1\n",
    "def get_odds():\n",
    "    for num in range(10):\n",
    "        if num % 2 != 0:\n",
    "            yield num\n",
    "\n",
    "# Use the generator function in a for loop\n",
    "count = 0\n",
    "for num in get_odds():\n",
    "    if count == 2:\n",
    "        print(num)\n",
    "        break\n",
    "    count += 1"
   ]
  },
  {
   "cell_type": "code",
   "execution_count": null,
   "id": "a935df65-38dd-4d78-b9ac-1cb26a89e104",
   "metadata": {},
   "outputs": [],
   "source": []
  }
 ],
 "metadata": {
  "kernelspec": {
   "display_name": "anaconda-panel-2023.05-py310",
   "language": "python",
   "name": "conda-env-anaconda-panel-2023.05-py310-py"
  },
  "language_info": {
   "codemirror_mode": {
    "name": "ipython",
    "version": 3
   },
   "file_extension": ".py",
   "mimetype": "text/x-python",
   "name": "python",
   "nbconvert_exporter": "python",
   "pygments_lexer": "ipython3",
   "version": "3.11.4"
  }
 },
 "nbformat": 4,
 "nbformat_minor": 5
}
