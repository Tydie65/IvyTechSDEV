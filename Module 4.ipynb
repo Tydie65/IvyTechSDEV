{
 "cells": [
  {
   "cell_type": "markdown",
   "id": "867fa0e0-ad50-477f-a0e3-b8f342e60875",
   "metadata": {},
   "source": [
    "11.1"
   ]
  },
  {
   "cell_type": "code",
   "execution_count": null,
   "id": "3694c681-2b8b-4e97-812e-d7edfe60bafe",
   "metadata": {},
   "outputs": [],
   "source": [
    "# zoo.py\n",
    "def hours():\n",
    "    print('Open 9-5 daily')\n",
    "    \n",
    "    import zoo.hours()"
   ]
  },
  {
   "cell_type": "markdown",
   "id": "0f11365a-8cd1-4f59-a6c5-ab0bcfb67cb8",
   "metadata": {},
   "source": [
    "11.2"
   ]
  },
  {
   "cell_type": "code",
   "execution_count": null,
   "id": "708417ea-decb-46da-ab85-e0a429d043c4",
   "metadata": {},
   "outputs": [],
   "source": [
    " import zoo as menagerie\n",
    "    menagerie.hours()"
   ]
  },
  {
   "cell_type": "markdown",
   "id": "961bd6c7-d3e0-429c-9cda-a3bef982e8da",
   "metadata": {},
   "source": [
    "16.8"
   ]
  },
  {
   "cell_type": "code",
   "execution_count": null,
   "id": "9364aec8-3331-4700-99b9-05c374b958e5",
   "metadata": {},
   "outputs": [],
   "source": [
    "import sqlalchemy\n",
    "import pandas as pd\n",
    "\n",
    "data=sqlalchemy.create_engine('sqlite:////path/books.db') # make sure that the path of the sqlite file is correct. \n",
    "\n",
    "#Now using pandas to read the data file.\n",
    "df=pd.read_sql('select title from book',data)\n",
    "\n",
    "print(df)"
   ]
  }
 ],
 "metadata": {
  "kernelspec": {
   "display_name": "anaconda-2022.05-py39",
   "language": "python",
   "name": "conda-env-anaconda-2022.05-py39-py"
  },
  "language_info": {
   "codemirror_mode": {
    "name": "ipython",
    "version": 3
   },
   "file_extension": ".py",
   "mimetype": "text/x-python",
   "name": "python",
   "nbconvert_exporter": "python",
   "pygments_lexer": "ipython3",
   "version": "3.9.12"
  }
 },
 "nbformat": 4,
 "nbformat_minor": 5
}
