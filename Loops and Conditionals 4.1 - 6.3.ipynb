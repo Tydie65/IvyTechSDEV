{
 "cells": [
  {
   "cell_type": "code",
   "execution_count": 12,
   "id": "bb2bec75-e992-4e73-a31a-a7ba700f3be7",
   "metadata": {
    "tags": []
   },
   "outputs": [
    {
     "name": "stdout",
     "output_type": "stream",
     "text": [
      "Guess value is =  4\n",
      "Secret value is =  8\n",
      "too low!\n"
     ]
    }
   ],
   "source": [
    "import random\n",
    "\n",
    "#Generate the secret and guess values between 1 and 10...\n",
    "secret = random.randint(1,10)\n",
    "guess = random.randint(1,10)\n",
    "\n",
    "#Print the value of Guess and secret...\n",
    "print(\"Guess value is = \", guess)\n",
    "print(\"Secret value is = \", secret)\n",
    "\n",
    "#Now, check if the guess is less than secret then print 'too low!'...\n",
    "if guess < secret:\n",
    "    print(\"too low!\")\n",
    "\n",
    "#Check if the guess is greater than secret then prints 'too high!'...\n",
    "elif guess > secret:\n",
    "    print(\"too high!\")\n",
    "    \n",
    "#Otherwise both values are the same so print 'just right!'...\n",
    "else:\n",
    "    print(\"just right!\")"
   ]
  },
  {
   "cell_type": "markdown",
   "id": "5495f3fa-8541-4582-8348-30613be0b6a7",
   "metadata": {},
   "source": [
    "4.2"
   ]
  },
  {
   "cell_type": "code",
   "execution_count": null,
   "id": "f7b3a02f-1ccf-4770-9c8a-bf90a78c9f4a",
   "metadata": {},
   "outputs": [],
   "source": [
    "small = True\n",
    "green = False\n",
    "if small and green:\n",
    "    print(\"pea\")\n",
    "elif small and not green:\n",
    "    print(\"cherry\")\n",
    "elif not small and green:\n",
    "    print(\"watermelon\")\n",
    "elif not small and not green:\n",
    "    print(\"pumpkin\")"
   ]
  },
  {
   "cell_type": "markdown",
   "id": "3c9dfcec-fbe2-4a7b-8cac-426832b1ade6",
   "metadata": {},
   "source": [
    "6.1"
   ]
  },
  {
   "cell_type": "code",
   "execution_count": null,
   "id": "2a7e6b80-dab6-4bfe-878a-a281e8bc2111",
   "metadata": {},
   "outputs": [],
   "source": [
    "list=[3,2,1,0]\n",
    "for x in list:\n",
    "print(x)"
   ]
  },
  {
   "cell_type": "markdown",
   "id": "99a3ae82-c12d-48b4-b973-cff0b9cb9062",
   "metadata": {},
   "source": [
    "6.2"
   ]
  },
  {
   "cell_type": "code",
   "execution_count": null,
   "id": "742440f7-87a6-4826-b955-3ebb6451bec7",
   "metadata": {},
   "outputs": [],
   "source": [
    "guess_me = 7 \n",
    "number = 1 \n",
    "while True: if number < guess_me: \n",
    "    print('too low') \n",
    "elif number == guess_me: \n",
    "    print('found it!') \n",
    "break else: print('oops') \n",
    "break number += 1 ``` "
   ]
  },
  {
   "cell_type": "markdown",
   "id": "fa11af85-3fd8-4769-a44f-083a1e4404ef",
   "metadata": {},
   "source": [
    "6.3"
   ]
  },
  {
   "cell_type": "code",
   "execution_count": null,
   "id": "364a015a-249d-4881-a6dd-4e8913c31d5e",
   "metadata": {},
   "outputs": [],
   "source": [
    "guess_me = 5 \n",
    "for number in range(10): \n",
    "    if number < guess_me: \n",
    "        print(f\"{number} is less than {guess_me}\") \n",
    "    elif number == guess_me: \n",
    "        print(f\"{number} is equal to {guess_me}\")\n",
    "    break else: \n",
    "        print(f\"{number} is greater than {guess_me}\") ```"
   ]
  }
 ],
 "metadata": {
  "kernelspec": {
   "display_name": "anaconda-panel-2023.05-py310",
   "language": "python",
   "name": "conda-env-anaconda-panel-2023.05-py310-py"
  },
  "language_info": {
   "codemirror_mode": {
    "name": "ipython",
    "version": 3
   },
   "file_extension": ".py",
   "mimetype": "text/x-python",
   "name": "python",
   "nbconvert_exporter": "python",
   "pygments_lexer": "ipython3",
   "version": "3.11.4"
  }
 },
 "nbformat": 4,
 "nbformat_minor": 5
}
